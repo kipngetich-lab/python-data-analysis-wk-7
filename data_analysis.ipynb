# Install  libraries
# !pip install pandas matplotlib seaborn

import pandas as pd
import matplotlib.pyplot as plt
import seaborn as sns
from sklearn.datasets import load_iris

# Task 1: Load and Explore the Dataset

try:
    # Load the Iris dataset from scikit-learn
    iris = load_iris()
    df = pd.DataFrame(data=iris.data, columns=iris.feature_names)
    df['species'] = iris.target_names[iris.target] # Add species column


    # Inspect the first few rows
    print("First 5 rows:\n", df.head())

    # Explore data types and missing values
    print("\nData types:\n", df.dtypes)
    print("\nMissing values:\n", df.isnull().sum())

    # (No cleaning needed for Iris as there's no missing data)

except FileNotFoundError:
    print("Error: Iris dataset file not found.")
except Exception as e:
    print(f"An error occurred: {e}")


# Task 2: Basic Data Analysis

# Basic statistics
print("\nDescriptive statistics:\n", df.describe())

# Group by species and calculate mean petal length
petal_length_by_species = df.groupby('species')['petal length (cm)'].mean()
print("\nMean petal length by species:\n", petal_length_by_species)

#Findings: Observe the significant difference in mean petal length across the three iris species. This suggests petal length could be a useful feature for classifying irises.


# Task 3: Data Visualization

#Line chart (not applicable for Iris, needs time-series data. we use synthetic timeseries)

#Example with synthetic time-series data:
time_data = pd.DataFrame({'time': pd.to_datetime(['2024-01-01', '2024-02-01', '2024-03-01', '2024-04-01']),
                        'value': [10, 15, 20, 18]})
plt.figure(figsize=(8, 6))
plt.plot(time_data['time'], time_data['value'])
plt.xlabel('Time')
plt.ylabel('Value')
plt.title('Synthetic Time-Series Data')
plt.grid(True)
plt.show()


# Bar chart (average petal length per species)
plt.figure(figsize=(8, 6))
sns.barplot(x='species', y='petal length (cm)', data=df)
plt.xlabel('Species')
plt.ylabel('Average Petal Length (cm)')
plt.title('Average Petal Length per Species')
plt.show()

# Histogram (petal length distribution)
plt.figure(figsize=(8, 6))
plt.hist(df['petal length (cm)'], bins=10)
plt.xlabel('Petal Length (cm)')
plt.ylabel('Frequency')
plt.title('Distribution of Petal Length')
plt.show()

# Scatter plot (sepal length vs. petal length)
plt.figure(figsize=(8, 6))
sns.scatterplot(x='sepal length (cm)', y='petal length (cm)', hue='species', data=df)
plt.xlabel('Sepal Length (cm)')
plt.ylabel('Petal Length (cm)')
plt.title('Sepal Length vs. Petal Length')
plt.show()

#Findings: The visualizations clearly show how petal length and sepal length differ across species, supporting the finding from the descriptive statistics. The scatterplot allows for visualization of the relationship between sepal and petal length.

